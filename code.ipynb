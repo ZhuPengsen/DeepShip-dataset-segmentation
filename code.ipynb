{
 "cells": [
  {
   "cell_type": "code",
   "execution_count": null,
   "id": "ad399fc1",
   "metadata": {},
   "outputs": [],
   "source": [
    "import os\n",
    "from scipy.io import wavfile"
   ]
  },
  {
   "cell_type": "code",
   "execution_count": null,
   "id": "b2297b0d",
   "metadata": {},
   "outputs": [],
   "source": [
    "train_list = r\"the path you put train.txt\"\n",
    "test_list  = r\"the path you put test.txt\"\n",
    "audio_path = r\"the path you put the audio\""
   ]
  },
  {
   "cell_type": "code",
   "execution_count": null,
   "id": "ee711772",
   "metadata": {},
   "outputs": [],
   "source": [
    "train_lines = open(train_list).read().splitlines()\n",
    "test_lines  = open(test_list).read().splitlines()"
   ]
  },
  {
   "cell_type": "code",
   "execution_count": null,
   "id": "645c71ae",
   "metadata": {},
   "outputs": [],
   "source": [
    "audlen = 32000*3\n",
    "audstr = 32000*1\n",
    "\n",
    "for idx_train,file_train in enumerate(train_lines):\n",
    "    file_train = os.path.join(audio_path, file_train)\n",
    "    fs_train,aud_train = wavfile.read(file_train)\n",
    "    writedir_train = file_train.replace('/DeepShip/','/DeepShip_train/')\n",
    "    print(writedir_train)\n",
    "    os.makedirs(writedir_train)\n",
    "    for st_train in range(0,len(aud_train)-audlen,audstr):\n",
    "        wavfile.write(writedir_train+'/%05d.wav'%(st_train/fs_train),fs_train,aud_train[st_train:st_train+audlen])\n",
    "    print(idx_train,file_train)\n",
    "    \n",
    "for idx_test,file_test in enumerate(test_lines):\n",
    "    fs_test,aud_test = wavfile.read(file_test)\n",
    "    writedir_test = file_test.replace('/DeepShip/','/DeepShip_test/')\n",
    "    os.makedirs(writedir_test)\n",
    "    for st_test in range(0,len(aud_test)-audlen,audstr):\n",
    "        wavfile.write(writedir_test+'/%05d.wav'%(st_test/fs_test),fs_test,aud_test[st_test:st_test+audlen])\n",
    "    print(idx_test,file_test)"
   ]
  }
 ],
 "metadata": {
  "kernelspec": {
   "display_name": "001",
   "language": "python",
   "name": "001"
  },
  "language_info": {
   "codemirror_mode": {
    "name": "ipython",
    "version": 3
   },
   "file_extension": ".py",
   "mimetype": "text/x-python",
   "name": "python",
   "nbconvert_exporter": "python",
   "pygments_lexer": "ipython3",
   "version": "3.6.13"
  }
 },
 "nbformat": 4,
 "nbformat_minor": 5
}
